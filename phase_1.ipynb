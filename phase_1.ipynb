{
 "cells": [
  {
   "cell_type": "markdown",
   "id": "4af7c7b1",
   "metadata": {},
   "source": [
    "## Array and it's basics\n",
    "numpy"
   ]
  },
  {
   "cell_type": "markdown",
   "id": "cadf788b",
   "metadata": {},
   "source": [
    "# Heading 1\n",
    "## Heading 2\n",
    "**bold**, *italic*, `code`\n",
    "\n"
   ]
  },
  {
   "cell_type": "code",
   "execution_count": 1,
   "id": "d5539054",
   "metadata": {},
   "outputs": [],
   "source": [
    "import numpy as np\n"
   ]
  },
  {
   "cell_type": "code",
   "execution_count": 51,
   "id": "79b5d1d0",
   "metadata": {},
   "outputs": [
    {
     "name": "stdout",
     "output_type": "stream",
     "text": [
      "1D array: [1 4 5 3]\n",
      "2D array: [[ 0 12  2]\n",
      " [ 1  2  3]]\n"
     ]
    }
   ],
   "source": [
    "my_1Darray = np.array([1, 4, 5, 3])\n",
    "print(\"1D array:\", my_1Darray)\n",
    "\n",
    "my_2Darray = np.array([[0,12,2], [1,2,3]])\n",
    "print(\"2D array:\", my_2Darray)\n"
   ]
  },
  {
   "cell_type": "markdown",
   "id": "4ab1a243",
   "metadata": {},
   "source": [
    "### List Vs Numpy array by using time"
   ]
  },
  {
   "cell_type": "code",
   "execution_count": 52,
   "id": "cd541d41",
   "metadata": {},
   "outputs": [],
   "source": [
    "import time"
   ]
  },
  {
   "cell_type": "code",
   "execution_count": 53,
   "id": "46fb7c5a",
   "metadata": {},
   "outputs": [
    {
     "name": "stdout",
     "output_type": "stream",
     "text": [
      "\n",
      " Time taken for list Operation time: 0.11953973770141602\n",
      "\n",
      " Time taken for NumPy Operation time: 0.12661147117614746\n"
     ]
    }
   ],
   "source": [
    "start_time = time.time()\n",
    "\n",
    "list_1 = [1, 2, 3, 4, 5]\n",
    "lst_array = [i*2 for i in range(1000000)]\n",
    "print(f\"\\n Time taken for list Operation time: {time.time() - start_time}\")\n",
    "\n",
    "\n",
    "np_array = np.arange(1000000) *2\n",
    "print(f\"\\n Time taken for NumPy Operation time: {time.time() - start_time}\")\n"
   ]
  },
  {
   "cell_type": "markdown",
   "id": "74af457a",
   "metadata": {},
   "source": [
    "### Creating Array from Scratch"
   ]
  },
  {
   "cell_type": "code",
   "execution_count": 54,
   "id": "d5df7e82",
   "metadata": {},
   "outputs": [
    {
     "name": "stdout",
     "output_type": "stream",
     "text": [
      "-->Zeros Matix: [[0. 0. 0. 0. 0.]\n",
      " [0. 0. 0. 0. 0.]\n",
      " [0. 0. 0. 0. 0.]\n",
      " [0. 0. 0. 0. 0.]\n",
      " [0. 0. 0. 0. 0.]]\n",
      "-->Ones Matix: [[1. 1. 1.]\n",
      " [1. 1. 1.]]\n",
      "-->Full Matix: [[7 7]\n",
      " [7 7]\n",
      " [7 7]]\n",
      "-->Randiant Matix: [[3 7 9]\n",
      " [9 5 6]\n",
      " [5 3 7]]\n",
      "-->Random Matix: [[0.50167642 0.38624178 0.53694003]\n",
      " [0.31863233 0.37927407 0.39451851]]\n"
     ]
    }
   ],
   "source": [
    "#Zeros Matix, Ones, full, random, \n",
    "np_array = np.zeros((5,5))\n",
    "print('-->Zeros Matix:',np_array)  \n",
    "np_array = np.ones((2,3))\n",
    "print('-->Ones Matix:',np_array) \n",
    "np_array = np.full((3, 2), 7) \n",
    "print('-->Full Matix:',np_array)  \n",
    "# np.random.randint(low, high, size)\n",
    "np_array = np.random.randint(1, 10, size=(3,3))\n",
    "print('-->Randiant Matix:',np_array)  \n",
    "np_array = np.random.random((2,3))\n",
    "print('-->Random Matix:',np_array)  \n",
    " "
   ]
  },
  {
   "cell_type": "markdown",
   "id": "9323f1af",
   "metadata": {},
   "source": [
    "### Vector, Matrix and Tensor "
   ]
  },
  {
   "cell_type": "code",
   "execution_count": 55,
   "id": "24f7b9bf",
   "metadata": {},
   "outputs": [
    {
     "name": "stdout",
     "output_type": "stream",
     "text": [
      "Array:\n",
      " [[1 2 3]\n",
      " [1 2 5]]\n",
      "Dimensions (ndim): 2\n",
      "Shape: (2, 3)\n",
      "Total Elements (size): 6\n",
      "Data Type (dtype): int64\n",
      "Item Size (itemsize): 8\n",
      "Total Bytes (nbytes): 48\n"
     ]
    }
   ],
   "source": [
    "#Properties of arrray\n",
    "\n",
    "arr = np.array([[1, 2, 3], [1, 2, 5]])\n",
    "print(\"Array:\\n\", arr)\n",
    "print(\"Dimensions (ndim):\", arr.ndim)       # 2\n",
    "print(\"Shape:\", arr.shape)                  # (2, 3)\n",
    "print(\"Total Elements (size):\", arr.size)   # 6\n",
    "print(\"Data Type (dtype):\", arr.dtype)      # int64 (or int32 depending on system)\n",
    "print(\"Item Size (itemsize):\", arr.itemsize)  # --> int64  →  64 bits  =  8 bytes (because 1 byte = 8 bits)\n",
    "print(\"Total Bytes (nbytes):\", arr.nbytes)    # 48 bytes (6×8)\n",
    "\n",
    "# print(\"Shape\",)"
   ]
  },
  {
   "cell_type": "markdown",
   "id": "9e8cf769",
   "metadata": {},
   "source": [
    "### Array Reshaping\n"
   ]
  },
  {
   "cell_type": "code",
   "execution_count": 56,
   "id": "3a4c861e",
   "metadata": {},
   "outputs": [
    {
     "name": "stdout",
     "output_type": "stream",
     "text": [
      "Arrange: [ 0  1  2  3  4  5  6  7  8  9 10 11]\n",
      "Re [[ 0  1]\n",
      " [ 2  3]\n",
      " [ 4  5]\n",
      " [ 6  7]\n",
      " [ 8  9]\n",
      " [10 11]]\n",
      "--->Auto Dimension [[ 0  1  2  3]\n",
      " [ 4  5  6  7]\n",
      " [ 8  9 10 11]]\n",
      "flattened: [ 0  1  2  3  4  5  6  7  8  9 10 11]\n",
      "Ravel: [ 0  1  2  3  4  5  6  7  8  9 10 11]\n",
      "True\n",
      "False\n",
      "Array : [ 10 999  30  40]\n"
     ]
    }
   ],
   "source": [
    "arr = np.arange(12)\n",
    "print(\"Arrange:\", arr)\n",
    "'''a * b must equal the total number of elements.\n",
    "   array.reshape(a, b) a-- rows and b--columns  '''\n",
    "new_arr = arr.reshape(6,2)                           \n",
    "print(\"Re\",new_arr)\n",
    "new1_arr = arr.reshape(3,-1)                           \n",
    "print(\"--->Auto Dimension\",new1_arr)\n",
    "\n",
    "flattened = new_arr.flatten()\n",
    "print(\"flattened:\", flattened)\n",
    "\n",
    "# Ravel \n",
    "Ravel = flattened.ravel()\n",
    "print(\"Ravel:\", Ravel)\n",
    "\n",
    "arr = np.array([10, 20, 30, 40])\n",
    "b = arr[::2]\n",
    "print(b.base is arr)   # True → it's a view\n",
    "b = arr.copy()\n",
    "print(b.base is arr)   # False → it's a copy\n",
    "\n",
    "view = arr[1:3]   # This is a view — no data is copied!\n",
    "view[0] = 999     # Modify the view\n",
    "\n",
    "print(\"Array :\", arr)"
   ]
  },
  {
   "cell_type": "markdown",
   "id": "8a9c8158",
   "metadata": {},
   "source": [
    "## Phase Second\n",
    "Basic Slicing, Sorting, filtering, fancing indexing and np.where(), Adding(Concatenate, Vstack and Hvstack) \n",
    "`Code`"
   ]
  },
  {
   "cell_type": "code",
   "execution_count": null,
   "id": "8afca247",
   "metadata": {},
   "outputs": [
    {
     "name": "stdout",
     "output_type": "stream",
     "text": [
      "Array 2D [[ 1  2  3]\n",
      " [ 3  4  5]\n",
      " [ 4 56 67]]\n",
      "Array 1D [0 1 2 3 4 5 6 7 8 9]\n",
      "Slicing of 1D Array  [0 3 6]\n",
      "Slicing of 2D Array  3\n",
      "Slicing of 2D Array  56\n",
      "Slicing of 2D Array-->  [[ 1  2  3]\n",
      " [ 3  4  5]\n",
      " [ 4 56 67]]\n",
      "Slicing of 2D Array-->  [1 3 4]\n",
      "Slicing of 2D Array  [3 4 5]\n"
     ]
    }
   ],
   "source": [
    "arr1D = np.arange(10)\n",
    "arr2D = np.array([[1,2,3],\n",
    "                  [3,4,5],\n",
    "                  [4,56,67]])\n",
    "print(\"Array 2D\",arr2D)\n",
    "print(\"Array 1D\",arr1D)\n",
    "#Slicing Indexing\n",
    "print(\"Slicing of 1D Array \",arr1D[0:9:3])\n",
    "print(\"Slicing of 2D Array \",arr2D[0,2]) #expected output 3\n",
    "print(\"Slicing of 2D Array \",arr2D[2,1]) #expected output 56\n",
    "print(\"Slicing of 2D Array--> \",arr2D[:,0:]) \n",
    "print(\"Slicing of 2D Array--> \",arr2D[:,0]) #expected output Entire Colunmn\n",
    "print(\"Slicing of 2D Array \",arr2D[1]) #expected output Entire Row\n",
    "\n",
    "\n"
   ]
  },
  {
   "cell_type": "markdown",
   "id": "8fbc660f",
   "metadata": {},
   "source": [
    "### Sorting"
   ]
  },
  {
   "cell_type": "code",
   "execution_count": 58,
   "id": "b41d857a",
   "metadata": {},
   "outputs": [
    {
     "name": "stdout",
     "output_type": "stream",
     "text": [
      "Sorted Array: [  3   5   6  23  42  56 100]\n",
      "Sorted Array By column: [[1 1]\n",
      " [2 2]\n",
      " [3 3]]\n",
      "Sorted Array By Row: [[1 3]\n",
      " [1 2]\n",
      " [2 3]]\n"
     ]
    }
   ],
   "source": [
    "unsorted = np.array([100,23,3,42,5,6,56])\n",
    "print(\"Sorted Array:\", np.sort(unsorted))\n",
    "\n",
    "arr_2d_unsorted = np.array([[3, 1], [1, 2], [2, 3]])\n",
    "print(\"Sorted Array By column:\", np.sort(arr_2d_unsorted, axis=0))\n",
    "print(\"Sorted Array By Row:\", np.sort(arr_2d_unsorted, axis=1))\n"
   ]
  },
  {
   "cell_type": "markdown",
   "id": "38bda6fb",
   "metadata": {},
   "source": [
    "### Filter"
   ]
  },
  {
   "cell_type": "code",
   "execution_count": 59,
   "id": "98ec9de5",
   "metadata": {},
   "outputs": [
    {
     "name": "stdout",
     "output_type": "stream",
     "text": [
      "Even numbers [ 2  4  6  8 10]\n"
     ]
    }
   ],
   "source": [
    "numbers = np.array([1, 2, 3, 4, 5, 6, 7, 8, 9, 10])\n",
    "even_number = numbers[numbers % 2 == 0]\n",
    "print(\"Even numbers\", even_number)\n"
   ]
  },
  {
   "cell_type": "markdown",
   "id": "c3f33200",
   "metadata": {},
   "source": [
    "### Filter With Mask"
   ]
  },
  {
   "cell_type": "code",
   "execution_count": 60,
   "id": "1d7174ac",
   "metadata": {},
   "outputs": [
    {
     "name": "stdout",
     "output_type": "stream",
     "text": [
      "Filter Data : [0 2 4 6 8]\n",
      "Filter Data : [4 6 8]\n",
      "[False False  True  True]\n",
      "[[ 3 30]\n",
      " [ 4 20]]\n"
     ]
    }
   ],
   "source": [
    "arr = np.arange(10)\n",
    "filter_data = arr[arr % 2 == 0] # arr[Condition]\n",
    "filter_1data = arr[(arr > 3) & (arr % 2 == 0)] # use & (and), | (or), ~ (not) and always add parentheses\n",
    "print(\"Filter Data :\", filter_data)\n",
    "print(\"Filter Data :\", filter_1data)\n",
    "# 2D \n",
    "M = np.array([[1,50],[2,40],[3,30],[4,20]])\n",
    "rows = M[:,1] < 35         # look at 2nd column\n",
    "print(rows)\n",
    "M_filtered = M[M[:,1] < 35]\n",
    "print(M_filtered)\n"
   ]
  },
  {
   "cell_type": "markdown",
   "id": "55fb9434",
   "metadata": {},
   "source": [
    "### Fancy indexing vs np.where()"
   ]
  },
  {
   "cell_type": "code",
   "execution_count": 61,
   "id": "18f4733c",
   "metadata": {},
   "outputs": [
    {
     "name": "stdout",
     "output_type": "stream",
     "text": [
      "[1 3 5]\n",
      "(array([5, 7, 9]),)\n",
      "NP where [ 6  8 10]\n",
      "['false' 'false' 'false' 'false' 'false' 'true' 'true' 'true' 'true'\n",
      " 'true']\n"
     ]
    }
   ],
   "source": [
    "numbers = np.array([1, 2, 3, 4, 5, 6, 7, 8, 9, 10])\n",
    "indices = [0, 2, 4]\n",
    "print(numbers[indices])\n",
    "\n",
    "where_result = np.where((numbers > 5)  & (numbers % 2 == 0))\n",
    "print(where_result)\n",
    "print(\"NP where\", numbers[where_result])\n",
    "\n",
    "condition_array = np.where(numbers > 5, \"true\",  \"false\")\n",
    "print(condition_array)"
   ]
  },
  {
   "cell_type": "code",
   "execution_count": 4,
   "id": "1a5f3aa4",
   "metadata": {},
   "outputs": [
    {
     "name": "stdout",
     "output_type": "stream",
     "text": [
      "[101 102]\n"
     ]
    }
   ],
   "source": [
    "ids = np.array([101,102,103,104])\n",
    "keep = np.isin(ids, [101,102])\n",
    "print(ids[keep])                   # [101,104]\n"
   ]
  },
  {
   "cell_type": "markdown",
   "id": "4789798f",
   "metadata": {},
   "source": [
    "### Adding and removing data"
   ]
  },
  {
   "cell_type": "code",
   "execution_count": 63,
   "id": "7d770706",
   "metadata": {},
   "outputs": [
    {
     "name": "stdout",
     "output_type": "stream",
     "text": [
      "Adding to arrays in Numpy: [ 1 23  3 11 23 30]\n",
      "Sorted array after Concatenate: [ 1  3 11 23 23 30]\n"
     ]
    }
   ],
   "source": [
    "original_arr = np.array([1,23,3])\n",
    "new_arr = np.array([11,23,30])\n",
    "add = np.concatenate((original_arr, new_arr))\n",
    "print(\"Adding to arrays in Numpy:\", add)\n",
    "def sorted(a):\n",
    "    sorted_array = np.sort(a)\n",
    "    print(\"Sorted array after Concatenate:\",sorted_array)\n",
    "sorted(add)    "
   ]
  },
  {
   "cell_type": "code",
   "execution_count": null,
   "id": "ef2ead1f",
   "metadata": {},
   "outputs": [],
   "source": []
  },
  {
   "cell_type": "markdown",
   "id": "7e73552d",
   "metadata": {},
   "source": [
    "### array compatibilty"
   ]
  },
  {
   "cell_type": "code",
   "execution_count": 64,
   "id": "11a008fe",
   "metadata": {},
   "outputs": [
    {
     "name": "stdout",
     "output_type": "stream",
     "text": [
      "Compatibility shapes False\n"
     ]
    }
   ],
   "source": [
    "a = np.array([1, 2, 3])\n",
    "b = np.array([4, 5, 6, 7])\n",
    "c = np.array([7, 8, 9])\n",
    "\n",
    "print(\"Compatibility shapes\", a.shape == b.shape)"
   ]
  },
  {
   "cell_type": "code",
   "execution_count": 65,
   "id": "b8a4bdda",
   "metadata": {},
   "outputs": [
    {
     "name": "stdout",
     "output_type": "stream",
     "text": [
      "[[1 2]\n",
      " [3 4]]\n",
      "With new column [[1 2 7]\n",
      " [3 4 8]]\n"
     ]
    }
   ],
   "source": [
    "original = np.array([[1, 2], [3, 4]])\n",
    "new_row = np.array([[5, 6]])\n",
    "\n",
    "with_new_row = np.vstack((original, new_row))\n",
    "print(original)\n",
    "new_col = np.array([[7], [8]])\n",
    "with_new_col = np.hstack((original, new_col))\n",
    "print(\"With new column\", with_new_col)"
   ]
  },
  {
   "cell_type": "code",
   "execution_count": 3,
   "id": "1ba63aee",
   "metadata": {},
   "outputs": [
    {
     "name": "stdout",
     "output_type": "stream",
     "text": [
      "Array after deletion:  [1 3 4]\n"
     ]
    }
   ],
   "source": [
    "arr = np.array([1, 2, 3, 4, 5])\n",
    "deleted = np.delete(arr[:4], 1)\n",
    "print(\"Array after deletion: \", deleted)"
   ]
  }
 ],
 "metadata": {
  "kernelspec": {
   "display_name": "venv",
   "language": "python",
   "name": "python3"
  },
  "language_info": {
   "codemirror_mode": {
    "name": "ipython",
    "version": 3
   },
   "file_extension": ".py",
   "mimetype": "text/x-python",
   "name": "python",
   "nbconvert_exporter": "python",
   "pygments_lexer": "ipython3",
   "version": "3.13.0"
  }
 },
 "nbformat": 4,
 "nbformat_minor": 5
}
